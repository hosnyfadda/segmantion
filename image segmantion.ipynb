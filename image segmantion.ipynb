{
 "cells": [
  {
   "cell_type": "code",
   "execution_count": 10,
   "id": "1d90f311-e026-4f49-8d13-3a4e465dd9a3",
   "metadata": {},
   "outputs": [],
   "source": [
    "import cv2\n",
    "import cvzone\n",
    "from cvzone.SelfiSegmentationModule import SelfiSegmentation\n",
    "import time\n",
    "\n",
    "cap = cv2.VideoCapture(0)\n",
    "cap.set(3, 640) \n",
    "cap.set(4, 480) \n",
    "\n",
    "segmentor = SelfiSegmentation()\n",
    "\n",
    "Image = cv2.imread(r\"C:\\Users\\Hosny Faddah\\Downloads\\image\\The_Great_Wave_off_Kanagawa.jpg\")\n",
    "Image = cv2.resize(Image, (640, 480))\n",
    "\n",
    "pTime = 0\n",
    "\n",
    "while True:\n",
    "    success, img = cap.read()\n",
    "    if not success:\n",
    "        break\n",
    "\n",
    "    imgOut = segmentor.removeBG(img, Image)\n",
    "\n",
    "    imgStack = cvzone.stackImages([img, imgOut], 2, 1)\n",
    "\n",
    "    cTime = time.time()\n",
    "    fps = 1 / (cTime - pTime) if (cTime - pTime) > 0 else 0\n",
    "    pTime = cTime\n",
    "\n",
    "    cv2.putText(imgStack, f'FPS: {int(fps)}', (10, 30),\n",
    "                cv2.FONT_HERSHEY_SIMPLEX, 1, (0, 255, 0), 2)\n",
    "\n",
    "    cv2.imshow(\"Background Replacement\", imgStack)\n",
    "\n",
    "    if cv2.waitKey(1) & 0xFF == ord('q'):\n",
    "        break\n",
    "\n",
    "cap.release()\n",
    "cv2.destroyAllWindows()"
   ]
  }
 ],
 "metadata": {
  "kernelspec": {
   "display_name": "Python 3 (ipykernel)",
   "language": "python",
   "name": "python3"
  },
  "language_info": {
   "codemirror_mode": {
    "name": "ipython",
    "version": 3
   },
   "file_extension": ".py",
   "mimetype": "text/x-python",
   "name": "python",
   "nbconvert_exporter": "python",
   "pygments_lexer": "ipython3",
   "version": "3.11.7"
  }
 },
 "nbformat": 4,
 "nbformat_minor": 5
}
